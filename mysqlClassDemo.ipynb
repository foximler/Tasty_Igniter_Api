{
 "cells": [
  {
   "cell_type": "code",
   "execution_count": 39,
   "id": "synthetic-fellow",
   "metadata": {},
   "outputs": [
    {
     "data": {
      "text/plain": [
       "'\\nfor obj in lists:\\n\\n    print( obj.order_id, obj.order_name, obj.order_number,\\n          obj.order_total_items,obj.order_comments,\\n          obj.order_pickup_time, obj.order_total,obj.order_items,sep =\\'-\\' )\\n    print(\"\\n\\n\")\\n'"
      ]
     },
     "execution_count": 39,
     "metadata": {},
     "output_type": "execute_result"
    }
   ],
   "source": [
    "import re\n",
    "from datetime import datetime\n",
    "import mysql.connector\n",
    "import time\n",
    "\n",
    "mydb = mysql.connector.connect(\n",
    "  host=\"\",\n",
    "  user=\"username\",\n",
    "  password=\"password\",\n",
    "  database=\"tasty\"  \n",
    ")\n",
    "\n",
    "class orders: \n",
    "    def __init__(self, order_id, order_name,order_email,order_number,\n",
    "                 order_total_items,order_comments,pickup_time,\n",
    "                 order_total,order_items): \n",
    "        self.order_id = order_id \n",
    "        self.order_email = order_email\n",
    "        self.order_name = order_name\n",
    "        self.order_number = order_number\n",
    "        self.order_total_items = order_total_items\n",
    "        self.order_comments = order_comments\n",
    "        self.order_pickup_time = pickup_time\n",
    "        self.order_total = order_total\n",
    "        self.order_items = order_items\n",
    "\n",
    "\n",
    "def generate_expoview(order_in):\n",
    "    order_name = f\"{order_in[2]} {order_in[3]}\"\n",
    "    d = datetime.strptime(str(order_in[15]), \"%H:%M:%S\")\n",
    "    order_split = order_in[8].replace(':',\"\").split('O27')[1:]\n",
    "    items = []\n",
    "    for x in order_split:\n",
    "        item={\"Item_name\":\"\",\"Item_price\":\"\",\"Item_mods\":[],\"Item_comments\":\"\"}\n",
    "        Item_message = x.split('\"name\"')[1].split(\";\")[1]\n",
    "        item[\"Item_quantity\"] = int(x.split('\"qty\";')[1].split(\";\")[0].split('\"')[1::2][0])\n",
    "        item_message_final = Item_message.split('\"')[1::2][0]\n",
    "        item[\"Item_name\"]=item_message_final\n",
    "        Price_message = x.split('\"price\";d')[1].split(\";\")[0]\n",
    "        item[\"Item_price\"]=Price_message\n",
    "        Comment_message = x.split(';s7\"comment\"')[1].split(\";\")[1]\n",
    "        if re.findall('CartItemOptionValue',x) != []:\n",
    "            j = 1\n",
    "            while j <= len(re.findall('CartItemOptionValues',x)):\n",
    "                mods_message = x.split('\"Igniter\\Flame\\Cart\\CartItemOptionValues')[j].split('\"name\"')[1]\n",
    "                message_finals = mods_message.split('\"')[1::2][0]\n",
    "                mods_quantity = x.split('\"Igniter\\Flame\\Cart\\CartItemOptionValues')[j].split('\"qty\"')[1]\n",
    "                message_quantity = int(mods_quantity.split(\";\")[1][1::2][0])\n",
    "                mod_print = 0\n",
    "                while mod_print < message_quantity :\n",
    "                    item[\"Item_mods\"].append(message_finals)\n",
    "                    mod_print += 1\n",
    "                j = j+1\n",
    "        if Comment_message != 'N' and Comment_message != 's0\"\"':\n",
    "            comment_message_final = Comment_message.split('\"')[1::2][0]\n",
    "            item[\"Item_comment\"]=comment_message_final\n",
    "        items.append(item)\n",
    "    Holla_back = orders(order_in[0],order_name,order_in[4],order_in[5],order_in[9],\n",
    "        order_in[10],d.strftime('%I:%M %p'),order_in[17],items)\n",
    "\n",
    "    return Holla_back\n",
    "\n",
    "mycursor = mydb.cursor()\n",
    "mycursor.execute(\"SELECT * FROM ti_orders WHERE status_id = 3\")\n",
    "now = datetime.now()\n",
    "current_time = now.strftime(\"%H:%M:%S\")\n",
    "myresult = mycursor.fetchall()\n",
    "lists = []\n",
    "for x in myresult:\n",
    "   lists.append(generate_expoview(x))\n",
    "'''\n",
    "for obj in lists:\n",
    "\n",
    "    print( obj.order_id, obj.order_name, obj.order_number,\n",
    "          obj.order_total_items,obj.order_comments,\n",
    "          obj.order_pickup_time, obj.order_total,obj.order_items,sep ='-' )\n",
    "    print(\"\\n\\n\")\n",
    "'''\n",
    "\n"
   ]
  },
  {
   "cell_type": "code",
   "execution_count": null,
   "id": "sustainable-carnival",
   "metadata": {},
   "outputs": [],
   "source": []
  }
 ],
 "metadata": {
  "kernelspec": {
   "display_name": "Python 3",
   "language": "python",
   "name": "python3"
  },
  "language_info": {
   "codemirror_mode": {
    "name": "ipython",
    "version": 3
   },
   "file_extension": ".py",
   "mimetype": "text/x-python",
   "name": "python",
   "nbconvert_exporter": "python",
   "pygments_lexer": "ipython3",
   "version": "3.9.1"
  }
 },
 "nbformat": 4,
 "nbformat_minor": 5
}
